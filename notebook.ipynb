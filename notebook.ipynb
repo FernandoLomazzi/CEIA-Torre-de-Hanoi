{
 "cells": [
  {
   "cell_type": "markdown",
   "id": "82432870-b771-4e7d-a811-b2cff7c73cc8",
   "metadata": {},
   "source": [
    "## 1) ¿Cuáles son los PEAS de este problema? (Performance, Environment, Actuators, Sensors)\n",
    "### Performance\n",
    "Discos ordenados de mayor a menor, reduciendo la cantidad de movimientos (tiempo mínimo)\n",
    "\n",
    "### Environment\n",
    "Varillas, discos, reglas de movimientos.  \n",
    "\n",
    "### Actuators\n",
    "Mover el disco de una varilla a otro cumpliendo las siguientes reglas:  \n",
    "1. Solo se puede mover un disco a la vez.  \n",
    "2. Cada movimiento consiste en tomar el disco superior de una de las pilas y colocarlo sobre otra pila o sobre una varilla vacía.  \n",
    "3. Ningún disco puede colocarse sobre uno que sea más pequeño.  \n",
    "\n",
    "### Sensors\n",
    "Posicion de los discos en las varillas."
   ]
  },
  {
   "cell_type": "markdown",
   "id": "831ea23f-8f28-45ba-b070-71a66b81a0d6",
   "metadata": {},
   "source": [
    "## 2) ¿Cuáles son las propiedades del entorno de trabajo?\n",
    "\n",
    "Tomando las propiedades vistas en clase podemos decir que para este caso aplican las siguientes:\n",
    "\n",
    "- Totalmente observable\n",
    "- Determinista\n",
    "- Secuencial\n",
    "- Estático\n",
    "- Discreto\n",
    "- Agente individual"
   ]
  },
  {
   "cell_type": "markdown",
   "id": "2fb4c764-be3f-40e5-8ce3-9df73ddb30a5",
   "metadata": {},
   "source": [
    "##  3)  En el contexto de este problema, defina los siguientes conceptos:\n",
    "### Estado\n",
    "El estado se define como la terna ordenada $(r_1, r_2, r_3)$ donde $r_i$ es una lista representando el contenido de la varilla $i$. Cada disco se representa con un número del 1 al 5 aludiendo a su tamaño, siendo el 1 el más pequeño y el 5 el más grande.\n",
    "\n",
    "Nótese que para que un estado sea válido además deberá cumplir:\n",
    "\n",
    "1. Si $r_i = [d_1, ..., d_k] \\Rightarrow  d_1 > ... > d_k$ (Las varillas se encuentran ordenadas ascendentemente)\n",
    "2. $\\cap_{i=1}^3 r_i = \\phi$ (No existen discos repetidos entre varillas)\n",
    "3. $\\cup_{i=1}^3 r_i = \\{1, 2, 3, 4, 5\\}$ (No existen discos faltantes)\n",
    "\n",
    "### Espacio de Estados\n",
    "Es el conjunto $S$ de todos los estados válidos, es decir, todos los estados que cumplen 1., 2. y 3. En este caso la cardinalidad del espacio será de $|S| = 3^5 = 243$ estados posibles\n",
    "\n",
    "### Árbol de Búsqueda\n",
    "Árbol (estructura de datos) enraizado en el estado inicial del agente $E_{initial} = ([5, 4, 3, 2, 1], [], [])$. Cada nodo no inicial implica los caminos que recorrió el agente (los movimientos realizados) y que, pueden, arribar a un nodo solución. La forma de expansión del mismo depende del algoritmo de búsqueda utilizado, en este caso, DFS.\n",
    "\n",
    "### Nodo de Búsqueda\n",
    "Un nodo de búsqueda es representado por cuatro componentes:\n",
    "\n",
    "- Un estado del espacio de estados que corresponde al nodo.\n",
    "- Un nodo diferente del árbol de búsqueda del que se ha generado este nodo.\n",
    "- La acción que se aplicará al padre para generar el nodo. (Qué disco se moverá del estado del nodo padre para arribar a este nodo)\n",
    "- El costo de un camino desde el nodo inicial al nodo. (Cantidad de discos movidos para arribar a este nodo desde el inicial)\n",
    "\n",
    "### Objetivo\n",
    "Estado: $E_{goal} = ([], [] ,[5, 4, 3, 2, 1])$.\n",
    "\n",
    "### Acción\n",
    "La acción se define como la tupla ordenada $(r_{in}, r_{out})$ donde $r_{in}, r_{out} \\in \\{1,2,3\\}$ representan mover el disco de la varilla $r_{in}$ a la varilla $r_{out}$.\n",
    "\n",
    "Nótese que para que una acción sea válida además deberá cumplir:\n",
    "- $r_{r_{in}} \\neq []$ (No se permite mover un disco inexistente)\n",
    "- $top(r_{r_{in}}) < top(r_{r_{out}})$, donde $top(r_i)$ denota el último elemento de la lista $r_i$ (Consistencia entre movimiento y tamaño)\n",
    "\n",
    "### Frontera \n",
    "La frontera separa dos regiones del grafo de búsqueda, aquella que ya fue explorada por el algoritmo y aquella que no. Puede entenderse como un conjunto de nodos aún no explorados."
   ]
  },
  {
   "cell_type": "markdown",
   "id": "8632ae21",
   "metadata": {},
   "source": [
    "## 4) Algoritmo de Busqueda en Profundidad (DFS)\n"
   ]
  },
  {
   "cell_type": "code",
   "execution_count": 4,
   "id": "455571fa-05f2-4235-83ab-f57170fe4c4d",
   "metadata": {},
   "outputs": [],
   "source": [
    "from aima_libs.hanoi_states import StatesHanoi, ActionHanoi, ProblemHanoi\n",
    "from aima_libs.tree_hanoi import NodeHanoi"
   ]
  },
  {
   "cell_type": "code",
   "execution_count": null,
   "id": "31f252d3-7a5d-425d-a162-7b0160dc0e06",
   "metadata": {},
   "outputs": [],
   "source": [
    "def depth_first_search(number_disks=5):\n",
    "    # Inicializamos el problema\n",
    "    list_disks = [i for i in range(5, 0, -1)]\n",
    "    initial_state = StatesHanoi(list_disks, [], [], max_disks=number_disks)\n",
    "    goal_state = StatesHanoi([], [], list_disks, max_disks=number_disks)\n",
    "    problem = ProblemHanoi(initial=initial_state, goal=goal_state)\n",
    "\n",
    "    frontier = [NodeHanoi(problem.initial)]  #Cola LIFO con el nodo inicial\n",
    "    explored = set()  #Conjunto de estados ya visitados\n",
    "\n",
    "    node_explored = 0\n",
    "    \n",
    "    while len(frontier) != 0:\n",
    "        \n",
    "        node = frontier.pop()\n",
    "        node_explored += 1\n",
    "        \n",
    "        if problem.goal_test(node.state):\n",
    "            metrics = {\n",
    "                \"solution_found\": True,\n",
    "                \"nodes_explored\": node_explored,\n",
    "                \"states_visited\": len(explored),\n",
    "                \"nodes_in_frontier\": len(frontier),\n",
    "                \"max_depth\": node.depth,\n",
    "                \"cost_total\": node.state.accumulated_cost,\n",
    "            }\n",
    "            return node, metrics\n",
    "        \n",
    "        # Agregamos a la frontera los nodos sucesores que no hayan sido visitados\n",
    "        for next_node in node.expand(problem):\n",
    "            if next_node.state not in explored:\n",
    "                frontier.append(next_node)\n",
    "                explored.add(next_node.state)\n",
    "\n",
    "    # Si no se encuentra solución, devolvemos métricas igualmente\n",
    "    metrics = {\n",
    "        \"solution_found\": False,\n",
    "        \"nodes_explored\": node_explored,\n",
    "        \"states_visited\": len(explored),\n",
    "        \"nodes_in_frontier\": len(frontier),\n",
    "        \"max_depth\": node.depth, # OBS: Si no se encontró la solución, este valor solo tiene sentido en breadth_first_search, en otros casos se debe ir llevando registro de cual fue la máxima profundidad\n",
    "        \"cost_total\": None,\n",
    "    }\n",
    "    return None, metrics"
   ]
  },
  {
   "cell_type": "code",
   "execution_count": 31,
   "id": "788d9594-d4e8-434c-bf3d-cdae285b15b2",
   "metadata": {},
   "outputs": [
    {
     "ename": "UnboundLocalError",
     "evalue": "cannot access local variable 'next_node' where it is not associated with a value",
     "output_type": "error",
     "traceback": [
      "\u001b[31m---------------------------------------------------------------------------\u001b[39m",
      "\u001b[31mUnboundLocalError\u001b[39m                         Traceback (most recent call last)",
      "\u001b[36mCell\u001b[39m\u001b[36m \u001b[39m\u001b[32mIn[31]\u001b[39m\u001b[32m, line 1\u001b[39m\n\u001b[32m----> \u001b[39m\u001b[32m1\u001b[39m solution, metrics = \u001b[43mdepth_first_search\u001b[49m\u001b[43m(\u001b[49m\u001b[43mnumber_disks\u001b[49m\u001b[43m=\u001b[49m\u001b[32;43m5\u001b[39;49m\u001b[43m)\u001b[49m\n",
      "\u001b[36mCell\u001b[39m\u001b[36m \u001b[39m\u001b[32mIn[30]\u001b[39m\u001b[32m, line 18\u001b[39m, in \u001b[36mdepth_first_search\u001b[39m\u001b[34m(number_disks)\u001b[39m\n\u001b[32m     15\u001b[39m node = frontier.pop()\n\u001b[32m     16\u001b[39m node_explored += \u001b[32m1\u001b[39m\n\u001b[32m---> \u001b[39m\u001b[32m18\u001b[39m explored.add(\u001b[43mnext_node\u001b[49m.state)\n\u001b[32m     20\u001b[39m \u001b[38;5;28;01mif\u001b[39;00m problem.goal_test(node.state):\n\u001b[32m     21\u001b[39m     metrics = {\n\u001b[32m     22\u001b[39m         \u001b[33m\"\u001b[39m\u001b[33msolution_found\u001b[39m\u001b[33m\"\u001b[39m: \u001b[38;5;28;01mTrue\u001b[39;00m,\n\u001b[32m     23\u001b[39m         \u001b[33m\"\u001b[39m\u001b[33mnodes_explored\u001b[39m\u001b[33m\"\u001b[39m: node_explored,\n\u001b[32m   (...)\u001b[39m\u001b[32m     27\u001b[39m         \u001b[33m\"\u001b[39m\u001b[33mcost_total\u001b[39m\u001b[33m\"\u001b[39m: node.state.accumulated_cost,\n\u001b[32m     28\u001b[39m     }\n",
      "\u001b[31mUnboundLocalError\u001b[39m: cannot access local variable 'next_node' where it is not associated with a value"
     ]
    }
   ],
   "source": [
    "solution, metrics = depth_first_search(number_disks=5)"
   ]
  },
  {
   "cell_type": "code",
   "execution_count": 13,
   "id": "4fa5e412-9b10-4f7f-847f-836984724e41",
   "metadata": {},
   "outputs": [
    {
     "name": "stdout",
     "output_type": "stream",
     "text": [
      "solution_found: True\n",
      "nodes_explored: 83\n",
      "states_visited: 123\n",
      "nodes_in_frontier: 41\n",
      "max_depth: 81\n",
      "cost_total: 81.0\n"
     ]
    }
   ],
   "source": [
    "for key, value in metrics.items():\n",
    "    print(f\"{key}: {value}\")"
   ]
  },
  {
   "cell_type": "code",
   "execution_count": 14,
   "id": "38c7bbe0-a216-430d-954f-1fcd4aa5035e",
   "metadata": {
    "scrolled": true
   },
   "outputs": [
    {
     "name": "stdout",
     "output_type": "stream",
     "text": [
      "<Node HanoiState: 5 4 3 2 1 |  | >\n",
      "<Node HanoiState: 5 4 3 2 |  | 1>\n",
      "<Node HanoiState: 5 4 3 | 2 | 1>\n",
      "<Node HanoiState: 5 4 3 | 2 1 | >\n",
      "<Node HanoiState: 5 4 | 2 1 | 3>\n",
      "<Node HanoiState: 5 4 | 2 | 3 1>\n",
      "<Node HanoiState: 5 4 2 |  | 3 1>\n",
      "<Node HanoiState: 5 4 2 | 1 | 3>\n",
      "<Node HanoiState: 5 4 | 1 | 3 2>\n",
      "<Node HanoiState: 5 4 |  | 3 2 1>\n",
      "<Node HanoiState: 5 | 4 | 3 2 1>\n",
      "<Node HanoiState: 5 | 4 1 | 3 2>\n",
      "<Node HanoiState: 5 2 | 4 1 | 3>\n",
      "<Node HanoiState: 5 2 | 4 | 3 1>\n",
      "<Node HanoiState: 5 | 4 2 | 3 1>\n",
      "<Node HanoiState: 5 | 4 2 1 | 3>\n",
      "<Node HanoiState: 5 3 | 4 2 1 | >\n",
      "<Node HanoiState: 5 3 | 4 2 | 1>\n",
      "<Node HanoiState: 5 3 2 | 4 | 1>\n",
      "<Node HanoiState: 5 3 2 | 4 1 | >\n",
      "<Node HanoiState: 5 3 | 4 1 | 2>\n",
      "<Node HanoiState: 5 3 | 4 | 2 1>\n",
      "<Node HanoiState: 5 | 4 3 | 2 1>\n",
      "<Node HanoiState: 5 | 4 3 1 | 2>\n",
      "<Node HanoiState: 5 2 | 4 3 1 | >\n",
      "<Node HanoiState: 5 2 | 4 3 | 1>\n",
      "<Node HanoiState: 5 | 4 3 2 | 1>\n",
      "<Node HanoiState: 5 | 4 3 2 1 | >\n",
      "<Node HanoiState:  | 4 3 2 1 | 5>\n",
      "<Node HanoiState:  | 4 3 2 | 5 1>\n",
      "<Node HanoiState: 2 | 4 3 | 5 1>\n",
      "<Node HanoiState: 2 | 4 3 1 | 5>\n",
      "<Node HanoiState:  | 4 3 1 | 5 2>\n",
      "<Node HanoiState:  | 4 3 | 5 2 1>\n",
      "<Node HanoiState: 3 | 4 | 5 2 1>\n",
      "<Node HanoiState: 3 | 4 1 | 5 2>\n",
      "<Node HanoiState: 3 2 | 4 1 | 5>\n",
      "<Node HanoiState: 3 2 | 4 | 5 1>\n",
      "<Node HanoiState: 3 | 4 2 | 5 1>\n",
      "<Node HanoiState: 3 | 4 2 1 | 5>\n",
      "<Node HanoiState:  | 4 2 1 | 5 3>\n",
      "<Node HanoiState:  | 4 2 | 5 3 1>\n",
      "<Node HanoiState: 2 | 4 | 5 3 1>\n",
      "<Node HanoiState: 2 | 4 1 | 5 3>\n",
      "<Node HanoiState:  | 4 1 | 5 3 2>\n",
      "<Node HanoiState:  | 4 | 5 3 2 1>\n",
      "<Node HanoiState: 4 |  | 5 3 2 1>\n",
      "<Node HanoiState: 4 | 1 | 5 3 2>\n",
      "<Node HanoiState: 4 2 | 1 | 5 3>\n",
      "<Node HanoiState: 4 2 |  | 5 3 1>\n",
      "<Node HanoiState: 4 | 2 | 5 3 1>\n",
      "<Node HanoiState: 4 | 2 1 | 5 3>\n",
      "<Node HanoiState: 4 3 | 2 1 | 5>\n",
      "<Node HanoiState: 4 3 | 2 | 5 1>\n",
      "<Node HanoiState: 4 3 2 |  | 5 1>\n",
      "<Node HanoiState: 4 3 2 | 1 | 5>\n",
      "<Node HanoiState: 4 3 | 1 | 5 2>\n",
      "<Node HanoiState: 4 3 |  | 5 2 1>\n",
      "<Node HanoiState: 4 | 3 | 5 2 1>\n",
      "<Node HanoiState: 4 | 3 1 | 5 2>\n",
      "<Node HanoiState: 4 2 | 3 1 | 5>\n",
      "<Node HanoiState: 4 2 | 3 | 5 1>\n",
      "<Node HanoiState: 4 | 3 2 | 5 1>\n",
      "<Node HanoiState: 4 | 3 2 1 | 5>\n",
      "<Node HanoiState:  | 3 2 1 | 5 4>\n",
      "<Node HanoiState:  | 3 2 | 5 4 1>\n",
      "<Node HanoiState: 2 | 3 | 5 4 1>\n",
      "<Node HanoiState: 2 | 3 1 | 5 4>\n",
      "<Node HanoiState:  | 3 1 | 5 4 2>\n",
      "<Node HanoiState:  | 3 | 5 4 2 1>\n",
      "<Node HanoiState: 3 |  | 5 4 2 1>\n",
      "<Node HanoiState: 3 | 1 | 5 4 2>\n",
      "<Node HanoiState: 3 2 | 1 | 5 4>\n",
      "<Node HanoiState: 3 2 |  | 5 4 1>\n",
      "<Node HanoiState: 3 | 2 | 5 4 1>\n",
      "<Node HanoiState: 3 | 2 1 | 5 4>\n",
      "<Node HanoiState:  | 2 1 | 5 4 3>\n",
      "<Node HanoiState:  | 2 | 5 4 3 1>\n",
      "<Node HanoiState: 2 |  | 5 4 3 1>\n",
      "<Node HanoiState: 2 | 1 | 5 4 3>\n",
      "<Node HanoiState:  | 1 | 5 4 3 2>\n",
      "<Node HanoiState:  |  | 5 4 3 2 1>\n"
     ]
    }
   ],
   "source": [
    "for nodos in solution.path():\n",
    "    print(nodos)"
   ]
  },
  {
   "cell_type": "code",
   "execution_count": 15,
   "id": "932a8fb1-ff27-4980-ae9c-fdc6f7320c05",
   "metadata": {
    "scrolled": true
   },
   "outputs": [
    {
     "name": "stdout",
     "output_type": "stream",
     "text": [
      "Move disk 1 from 1 to 3\n",
      "Move disk 2 from 1 to 2\n",
      "Move disk 1 from 3 to 2\n",
      "Move disk 3 from 1 to 3\n",
      "Move disk 1 from 2 to 3\n",
      "Move disk 2 from 2 to 1\n",
      "Move disk 1 from 3 to 2\n",
      "Move disk 2 from 1 to 3\n",
      "Move disk 1 from 2 to 3\n",
      "Move disk 4 from 1 to 2\n",
      "Move disk 1 from 3 to 2\n",
      "Move disk 2 from 3 to 1\n",
      "Move disk 1 from 2 to 3\n",
      "Move disk 2 from 1 to 2\n",
      "Move disk 1 from 3 to 2\n",
      "Move disk 3 from 3 to 1\n",
      "Move disk 1 from 2 to 3\n",
      "Move disk 2 from 2 to 1\n",
      "Move disk 1 from 3 to 2\n",
      "Move disk 2 from 1 to 3\n",
      "Move disk 1 from 2 to 3\n",
      "Move disk 3 from 1 to 2\n",
      "Move disk 1 from 3 to 2\n",
      "Move disk 2 from 3 to 1\n",
      "Move disk 1 from 2 to 3\n",
      "Move disk 2 from 1 to 2\n",
      "Move disk 1 from 3 to 2\n",
      "Move disk 5 from 1 to 3\n",
      "Move disk 1 from 2 to 3\n",
      "Move disk 2 from 2 to 1\n",
      "Move disk 1 from 3 to 2\n",
      "Move disk 2 from 1 to 3\n",
      "Move disk 1 from 2 to 3\n",
      "Move disk 3 from 2 to 1\n",
      "Move disk 1 from 3 to 2\n",
      "Move disk 2 from 3 to 1\n",
      "Move disk 1 from 2 to 3\n",
      "Move disk 2 from 1 to 2\n",
      "Move disk 1 from 3 to 2\n",
      "Move disk 3 from 1 to 3\n",
      "Move disk 1 from 2 to 3\n",
      "Move disk 2 from 2 to 1\n",
      "Move disk 1 from 3 to 2\n",
      "Move disk 2 from 1 to 3\n",
      "Move disk 1 from 2 to 3\n",
      "Move disk 4 from 2 to 1\n",
      "Move disk 1 from 3 to 2\n",
      "Move disk 2 from 3 to 1\n",
      "Move disk 1 from 2 to 3\n",
      "Move disk 2 from 1 to 2\n",
      "Move disk 1 from 3 to 2\n",
      "Move disk 3 from 3 to 1\n",
      "Move disk 1 from 2 to 3\n",
      "Move disk 2 from 2 to 1\n",
      "Move disk 1 from 3 to 2\n",
      "Move disk 2 from 1 to 3\n",
      "Move disk 1 from 2 to 3\n",
      "Move disk 3 from 1 to 2\n",
      "Move disk 1 from 3 to 2\n",
      "Move disk 2 from 3 to 1\n",
      "Move disk 1 from 2 to 3\n",
      "Move disk 2 from 1 to 2\n",
      "Move disk 1 from 3 to 2\n",
      "Move disk 4 from 1 to 3\n",
      "Move disk 1 from 2 to 3\n",
      "Move disk 2 from 2 to 1\n",
      "Move disk 1 from 3 to 2\n",
      "Move disk 2 from 1 to 3\n",
      "Move disk 1 from 2 to 3\n",
      "Move disk 3 from 2 to 1\n",
      "Move disk 1 from 3 to 2\n",
      "Move disk 2 from 3 to 1\n",
      "Move disk 1 from 2 to 3\n",
      "Move disk 2 from 1 to 2\n",
      "Move disk 1 from 3 to 2\n",
      "Move disk 3 from 1 to 3\n",
      "Move disk 1 from 2 to 3\n",
      "Move disk 2 from 2 to 1\n",
      "Move disk 1 from 3 to 2\n",
      "Move disk 2 from 1 to 3\n",
      "Move disk 1 from 2 to 3\n"
     ]
    }
   ],
   "source": [
    "for act in solution.solution():\n",
    "    print(act)"
   ]
  },
  {
   "cell_type": "markdown",
   "id": "1cb85303-864d-45fc-bf4b-dcf2b49750a8",
   "metadata": {},
   "source": [
    "## 5) ¿Cuál es la complejidad teórica en tiempo y memoria del algoritmo elegido?\n",
    "Complejidad Tiempo -> O(b^d) \n",
    "Complejidad Memoria -> O(b . d)\n",
    "\n",
    "Siendo b -> branches en que se va abriendo. En este caso abre de a 2. \n",
    "\n",
    "Siendo d -> profundidad maxima del arbol."
   ]
  },
  {
   "cell_type": "markdown",
   "id": "32aa56ce-79a4-49cd-a97d-89a01e4a1860",
   "metadata": {},
   "source": [
    "## 6) A nivel de implementación, ¿cuánto tiempo y memoria utiliza el algoritmo? (Se recomienda ejecutarlo 10 veces y calcular el promedio y el desvío estándar de ambas métricas)."
   ]
  },
  {
   "cell_type": "code",
   "execution_count": 20,
   "id": "0436f7bc",
   "metadata": {},
   "outputs": [
    {
     "name": "stdout",
     "output_type": "stream",
     "text": [
      "2.39 ms ± 518 μs per loop (mean ± std. dev. of 10 runs, 10 loops each)\n"
     ]
    }
   ],
   "source": [
    "%%timeit -n 10 -r 10 \n",
    "depth_first_search(number_disks=5)"
   ]
  },
  {
   "cell_type": "code",
   "execution_count": 23,
   "id": "e71b0e46-d750-4c25-82c8-30145a3975b9",
   "metadata": {},
   "outputs": [
    {
     "name": "stdout",
     "output_type": "stream",
     "text": [
      "Memoria promedio: 0.1341 MB\n",
      "Desvío estándar de la memoria: 0.0021 MB\n"
     ]
    }
   ],
   "source": [
    "import tracemalloc\n",
    "import statistics\n",
    "\n",
    "memories = []\n",
    "\n",
    "for _ in range(20):\n",
    "    \n",
    "    tracemalloc.start() \n",
    "    \n",
    "    depth_first_search(number_disks=5)  # Llamada a la función que queremos medir\n",
    "    current, peak = tracemalloc.get_traced_memory() \n",
    "    tracemalloc.stop() \n",
    "    \n",
    "    # Añado al array memoria el pico de memoria de cada iteracion\n",
    "    memories.append(peak / (1024*1024))  # Convertir a MB\n",
    " \n",
    "print(f\"Memoria promedio: {statistics.mean(memories):.4f} MB\")\n",
    "print(f\"Desvío estándar de la memoria: {statistics.stdev(memories):.4f} MB\")    "
   ]
  },
  {
   "cell_type": "markdown",
   "id": "12e86500-13b8-4efb-830d-4ea4708d68e7",
   "metadata": {},
   "source": [
    "## 7) Si la solución óptima es de $2^k - 1$ movimientos (siendo k el número de discos), ¿qué tan lejos está la solución encontrada por el algoritmo implementado de esa solución óptima? (Se recomienda ejecutar al menos 10 veces y usar el promedio de los trayectos obtenidos)."
   ]
  },
  {
   "cell_type": "code",
   "execution_count": 26,
   "id": "5371e6bf-0f3b-4455-a803-671a0eb5cf55",
   "metadata": {},
   "outputs": [
    {
     "name": "stdout",
     "output_type": "stream",
     "text": [
      "Profundidad máxima promedio: 81.00\n",
      "Profundidad óptima: 31\n",
      "Diferencia con la óptima: 50.00\n"
     ]
    }
   ],
   "source": [
    "import statistics\n",
    "\n",
    "max_depths = []\n",
    "number_disks = 5\n",
    "\n",
    "for _ in range(5):\n",
    "    \n",
    "    solution, metrics = depth_first_search(number_disks)\n",
    "    #print(f\"Solución encontrada: {metrics['max_depth']}\")\n",
    "    max_depths.append(metrics['max_depth'])\n",
    "    \n",
    "print(f\"Profundidad máxima promedio: {statistics.mean(max_depths):.2f}\")\n",
    "optimal_depth = 2 ** number_disks  - 1\n",
    "print(f\"Profundidad óptima: {optimal_depth}\")\n",
    "print(f\"Diferencia con la óptima: {abs(statistics.mean(max_depths) - optimal_depth):.2f}\")"
   ]
  }
 ],
 "metadata": {
  "kernelspec": {
   "display_name": "TP1-Torre-de-Hanoi",
   "language": "python",
   "name": "python3"
  },
  "language_info": {
   "codemirror_mode": {
    "name": "ipython",
    "version": 3
   },
   "file_extension": ".py",
   "mimetype": "text/x-python",
   "name": "python",
   "nbconvert_exporter": "python",
   "pygments_lexer": "ipython3",
   "version": "3.12.10"
  }
 },
 "nbformat": 4,
 "nbformat_minor": 5
}
